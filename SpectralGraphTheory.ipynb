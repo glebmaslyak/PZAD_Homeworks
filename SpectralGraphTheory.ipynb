{
 "cells": [
  {
   "cell_type": "markdown",
   "metadata": {},
   "source": [
    "Необязательное ДЗ по лекции \"Спектральная теория графов\". Масляков Глеб, группа 517."
   ]
  },
  {
   "cell_type": "code",
   "execution_count": 1,
   "metadata": {
    "collapsed": true
   },
   "outputs": [],
   "source": [
    "import numpy as np\n",
    "import networkx as nx\n",
    "import matplotlib.pyplot as plt\n",
    "%matplotlib inline"
   ]
  },
  {
   "cell_type": "code",
   "execution_count": 2,
   "metadata": {
    "collapsed": true
   },
   "outputs": [],
   "source": [
    "import warnings\n",
    "warnings.filterwarnings(\"ignore\")"
   ]
  },
  {
   "cell_type": "markdown",
   "metadata": {},
   "source": [
    "### Изоспектральность деревьев"
   ]
  },
  {
   "cell_type": "markdown",
   "metadata": {},
   "source": [
    "Будем генерировать случайные деревья и сравнивать спектр по метрике MSE для разного числа вершин."
   ]
  },
  {
   "cell_type": "markdown",
   "metadata": {},
   "source": [
    "Сначала маленькие деревья."
   ]
  },
  {
   "cell_type": "code",
   "execution_count": 3,
   "metadata": {
    "collapsed": true
   },
   "outputs": [],
   "source": [
    "lst = []\n",
    "for n in range(10, 101):\n",
    "    mse = 0\n",
    "    for _ in range(10):\n",
    "        G_1 = nx.generators.trees.random_tree(n)\n",
    "        G_2 = nx.generators.trees.random_tree(n)\n",
    "        s_1 = nx.adjacency_spectrum(G_1).astype(np.float64)\n",
    "        s_2 = nx.adjacency_spectrum(G_2).astype(np.float64)\n",
    "        s_1.sort()\n",
    "        s_2.sort()\n",
    "        mse += np.mean(np.square(s_1 - s_2))\n",
    "    lst.append(mse / 10)"
   ]
  },
  {
   "cell_type": "code",
   "execution_count": 4,
   "metadata": {
    "collapsed": false
   },
   "outputs": [
    {
     "data": {
      "text/plain": [
       "[<matplotlib.lines.Line2D at 0x11ef94a20>]"
      ]
     },
     "execution_count": 4,
     "metadata": {},
     "output_type": "execute_result"
    },
    {
     "data": {
      "image/png": "[encoded data removed]",
      "text/plain": [
       "<matplotlib.figure.Figure at 0x11eed5ac8>"
      ]
     },
     "metadata": {},
     "output_type": "display_data"
    }
   ],
   "source": [
    "plt.figure(figsize=(5,5))\n",
    "plt.plot(np.arange(10,101), lst)"
   ]
  },
  {
   "cell_type": "markdown",
   "metadata": {},
   "source": [
    "Потом побольше."
   ]
  },
  {
   "cell_type": "code",
   "execution_count": 5,
   "metadata": {
    "collapsed": false
   },
   "outputs": [],
   "source": [
    "lst = []\n",
    "for n in range(100, 3001, 100):\n",
    "    mse = 0\n",
    "    for _ in range(10):\n",
    "        G_1 = nx.generators.trees.random_tree(n)\n",
    "        G_2 = nx.generators.trees.random_tree(n)\n",
    "        s_1 = nx.adjacency_spectrum(G_1).astype(np.float64)\n",
    "        s_2 = nx.adjacency_spectrum(G_2).astype(np.float64)\n",
    "        s_1.sort()\n",
    "        s_2.sort()\n",
    "        mse += np.mean(np.square(s_1 - s_2))\n",
    "    lst.append(mse / 10)"
   ]
  },
  {
   "cell_type": "code",
   "execution_count": 19,
   "metadata": {
    "collapsed": false
   },
   "outputs": [
    {
     "data": {
      "text/plain": [
       "[<matplotlib.lines.Line2D at 0x1212bacf8>]"
      ]
     },
     "execution_count": 19,
     "metadata": {},
     "output_type": "execute_result"
    },
    {
     "data": {
      "image/png": "[encoded data removed]",
      "text/plain": [
       "<matplotlib.figure.Figure at 0x121777eb8>"
      ]
     },
     "metadata": {},
     "output_type": "display_data"
    }
   ],
   "source": [
    "plt.figure(figsize=(5,5))\n",
    "plt.plot(np.arange(100, 3001, 100), lst)"
   ]
  },
  {
   "cell_type": "markdown",
   "metadata": {},
   "source": [
    "Видно, что MSE спектров двух случайно выбранных деревьев в среднем стремится к нулю при росте $n$."
   ]
  },
  {
   "cell_type": "markdown",
   "metadata": {},
   "source": [
    "Для деревьев большего размера уже вычислительно сложно считать спектр."
   ]
  },
  {
   "cell_type": "markdown",
   "metadata": {},
   "source": [
    "### Спектр Лапласа не распознаёт двудольность"
   ]
  },
  {
   "cell_type": "markdown",
   "metadata": {},
   "source": [
    "Пример коспектральных в смысле Лапласа графов. Один из этих графов двудольный, другой нет."
   ]
  },
  {
   "cell_type": "code",
   "execution_count": 3,
   "metadata": {
    "collapsed": true
   },
   "outputs": [],
   "source": [
    "G1 = nx.Graph()\n",
    "G2 = nx.Graph()\n",
    "G1.add_nodes_from([1,2,3,4,5,6])\n",
    "G2.add_nodes_from([1,2,3,4,5,6])\n",
    "G1.add_edges_from([(1,2), (2,3), (3,4), (4,1), (2,5), (5,6), (6,2)])\n",
    "G2.add_edges_from([(1,2), (2,3), (3,4), (4,1), (2,5), (5,4), (5,6)])"
   ]
  },
  {
   "cell_type": "markdown",
   "metadata": {},
   "source": [
    "В первом графе есть цикл нечётной длины $2 \\rightarrow 5 \\rightarrow 6 \\rightarrow 2$. Значит он не является двудольным."
   ]
  },
  {
   "cell_type": "code",
   "execution_count": 4,
   "metadata": {
    "collapsed": false
   },
   "outputs": [
    {
     "data": {
      "image/png": "[encoded data removed]",
      "text/plain": [
       "<matplotlib.figure.Figure at 0x105ad44e0>"
      ]
     },
     "metadata": {},
     "output_type": "display_data"
    }
   ],
   "source": [
    "nx.draw_shell(G1, with_labels=True)"
   ]
  },
  {
   "cell_type": "markdown",
   "metadata": {},
   "source": [
    "Во втором графе вершины $2,4,6$ и $3,5,1$ попарно несоединены. Значит он двудольный."
   ]
  },
  {
   "cell_type": "code",
   "execution_count": 5,
   "metadata": {
    "collapsed": false
   },
   "outputs": [
    {
     "data": {
      "image/png": "[encoded data removed]",
      "text/plain": [
       "<matplotlib.figure.Figure at 0x11f81ef98>"
      ]
     },
     "metadata": {},
     "output_type": "display_data"
    }
   ],
   "source": [
    "nx.draw_shell(G2, with_labels=True)"
   ]
  },
  {
   "cell_type": "markdown",
   "metadata": {},
   "source": [
    "Матрица Лапласа первого графа"
   ]
  },
  {
   "cell_type": "code",
   "execution_count": 7,
   "metadata": {
    "collapsed": false
   },
   "outputs": [
    {
     "name": "stdout",
     "output_type": "stream",
     "text": [
      "[[ 2 -1  0 -1  0  0]\n",
      " [-1  4 -1  0 -1 -1]\n",
      " [ 0 -1  2 -1  0  0]\n",
      " [-1  0 -1  2  0  0]\n",
      " [ 0 -1  0  0  2 -1]\n",
      " [ 0 -1  0  0 -1  2]]\n"
     ]
    }
   ],
   "source": [
    "print(nx.laplacian_matrix(G1).toarray())"
   ]
  },
  {
   "cell_type": "markdown",
   "metadata": {},
   "source": [
    "Характеристический многочлен имеет вид: $(\\lambda-3)^2(\\lambda-2)\\lambda (\\lambda^2 - 6\\lambda + 4)$"
   ]
  },
  {
   "cell_type": "markdown",
   "metadata": {},
   "source": [
    "Матрица Лапласа второго графа."
   ]
  },
  {
   "cell_type": "code",
   "execution_count": 8,
   "metadata": {
    "collapsed": false
   },
   "outputs": [
    {
     "name": "stdout",
     "output_type": "stream",
     "text": [
      "[[ 2 -1  0 -1  0  0]\n",
      " [-1  3 -1  0 -1  0]\n",
      " [ 0 -1  2 -1  0  0]\n",
      " [-1  0 -1  3 -1  0]\n",
      " [ 0 -1  0 -1  3 -1]\n",
      " [ 0  0  0  0 -1  1]]\n"
     ]
    }
   ],
   "source": [
    "print(nx.laplacian_matrix(G2).toarray())"
   ]
  },
  {
   "cell_type": "markdown",
   "metadata": {},
   "source": [
    "Характеристический многочлен также имеет вид: $(\\lambda-3)^2(\\lambda-2)\\lambda (\\lambda^2 - 6\\lambda + 4)$"
   ]
  },
  {
   "cell_type": "markdown",
   "metadata": {},
   "source": [
    "То есть их спектры Лапласа совпадают!"
   ]
  },
  {
   "cell_type": "markdown",
   "metadata": {},
   "source": [
    "На всякий случай численно вычисленные собственные значения."
   ]
  },
  {
   "cell_type": "code",
   "execution_count": 10,
   "metadata": {
    "collapsed": false
   },
   "outputs": [
    {
     "data": {
      "text/plain": [
       "array([-9.69399495e-16,  7.63932023e-01,  2.00000000e+00,  3.00000000e+00,\n",
       "        3.00000000e+00,  5.23606798e+00])"
      ]
     },
     "execution_count": 10,
     "metadata": {},
     "output_type": "execute_result"
    }
   ],
   "source": [
    "np.linalg.eigvalsh(nx.laplacian_matrix(G1).toarray())"
   ]
  },
  {
   "cell_type": "code",
   "execution_count": 11,
   "metadata": {
    "collapsed": false
   },
   "outputs": [
    {
     "data": {
      "text/plain": [
       "array([-1.21920032e-15,  7.63932023e-01,  2.00000000e+00,  3.00000000e+00,\n",
       "        3.00000000e+00,  5.23606798e+00])"
      ]
     },
     "execution_count": 11,
     "metadata": {},
     "output_type": "execute_result"
    }
   ],
   "source": [
    "np.linalg.eigvalsh(nx.laplacian_matrix(G2).toarray())"
   ]
  },
  {
   "cell_type": "code",
   "execution_count": null,
   "metadata": {
    "collapsed": true
   },
   "outputs": [],
   "source": []
  }
 ],
 "metadata": {
  "anaconda-cloud": {},
  "kernelspec": {
   "display_name": "Python [Root]",
   "language": "python",
   "name": "Python [Root]"
  },
  "language_info": {
   "codemirror_mode": {
    "name": "ipython",
    "version": 3
   },
   "file_extension": ".py",
   "mimetype": "text/x-python",
   "name": "python",
   "nbconvert_exporter": "python",
   "pygments_lexer": "ipython3",
   "version": "3.5.2"
  }
 },
 "nbformat": 4,
 "nbformat_minor": 0
}
